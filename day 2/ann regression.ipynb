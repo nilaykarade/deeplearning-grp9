{
 "cells": [
  {
   "cell_type": "code",
   "execution_count": 1,
   "id": "252932b1",
   "metadata": {
    "collapsed": true
   },
   "outputs": [
    {
     "name": "stdout",
     "output_type": "stream",
     "text": [
      "Requirement already satisfied: tensorflow in c:\\users\\nilay\\anaconda3\\lib\\site-packages (2.8.0)\n",
      "Requirement already satisfied: setuptools in c:\\users\\nilay\\anaconda3\\lib\\site-packages (from tensorflow) (58.0.4)\n",
      "Requirement already satisfied: astunparse>=1.6.0 in c:\\users\\nilay\\anaconda3\\lib\\site-packages (from tensorflow) (1.6.3)\n",
      "Requirement already satisfied: h5py>=2.9.0 in c:\\users\\nilay\\anaconda3\\lib\\site-packages (from tensorflow) (3.2.1)\n",
      "Requirement already satisfied: flatbuffers>=1.12 in c:\\users\\nilay\\anaconda3\\lib\\site-packages (from tensorflow) (2.0)\n",
      "Requirement already satisfied: gast>=0.2.1 in c:\\users\\nilay\\anaconda3\\lib\\site-packages (from tensorflow) (0.5.3)\n",
      "Requirement already satisfied: opt-einsum>=2.3.2 in c:\\users\\nilay\\anaconda3\\lib\\site-packages (from tensorflow) (3.3.0)\n",
      "Requirement already satisfied: tf-estimator-nightly==2.8.0.dev2021122109 in c:\\users\\nilay\\anaconda3\\lib\\site-packages (from tensorflow) (2.8.0.dev2021122109)\n",
      "Requirement already satisfied: protobuf>=3.9.2 in c:\\users\\nilay\\anaconda3\\lib\\site-packages (from tensorflow) (3.20.1)\n",
      "Requirement already satisfied: numpy>=1.20 in c:\\users\\nilay\\anaconda3\\lib\\site-packages (from tensorflow) (1.20.3)\n",
      "Requirement already satisfied: libclang>=9.0.1 in c:\\users\\nilay\\anaconda3\\lib\\site-packages (from tensorflow) (14.0.1)\n",
      "Requirement already satisfied: six>=1.12.0 in c:\\users\\nilay\\anaconda3\\lib\\site-packages (from tensorflow) (1.16.0)\n",
      "Requirement already satisfied: typing-extensions>=3.6.6 in c:\\users\\nilay\\anaconda3\\lib\\site-packages (from tensorflow) (3.10.0.2)\n",
      "Requirement already satisfied: tensorboard<2.9,>=2.8 in c:\\users\\nilay\\anaconda3\\lib\\site-packages (from tensorflow) (2.8.0)\n",
      "Requirement already satisfied: grpcio<2.0,>=1.24.3 in c:\\users\\nilay\\anaconda3\\lib\\site-packages (from tensorflow) (1.46.0)\n",
      "Requirement already satisfied: absl-py>=0.4.0 in c:\\users\\nilay\\anaconda3\\lib\\site-packages (from tensorflow) (1.0.0)\n",
      "Requirement already satisfied: keras<2.9,>=2.8.0rc0 in c:\\users\\nilay\\anaconda3\\lib\\site-packages (from tensorflow) (2.8.0)\n",
      "Requirement already satisfied: termcolor>=1.1.0 in c:\\users\\nilay\\anaconda3\\lib\\site-packages (from tensorflow) (1.1.0)\n",
      "Requirement already satisfied: tensorflow-io-gcs-filesystem>=0.23.1 in c:\\users\\nilay\\anaconda3\\lib\\site-packages (from tensorflow) (0.25.0)\n",
      "Requirement already satisfied: google-pasta>=0.1.1 in c:\\users\\nilay\\anaconda3\\lib\\site-packages (from tensorflow) (0.2.0)\n",
      "Requirement already satisfied: wrapt>=1.11.0 in c:\\users\\nilay\\anaconda3\\lib\\site-packages (from tensorflow) (1.12.1)\n",
      "Requirement already satisfied: keras-preprocessing>=1.1.1 in c:\\users\\nilay\\anaconda3\\lib\\site-packages (from tensorflow) (1.1.2)\n",
      "Requirement already satisfied: wheel<1.0,>=0.23.0 in c:\\users\\nilay\\anaconda3\\lib\\site-packages (from astunparse>=1.6.0->tensorflow) (0.37.0)\n",
      "Requirement already satisfied: markdown>=2.6.8 in c:\\users\\nilay\\anaconda3\\lib\\site-packages (from tensorboard<2.9,>=2.8->tensorflow) (3.3.7)\n",
      "Requirement already satisfied: tensorboard-plugin-wit>=1.6.0 in c:\\users\\nilay\\anaconda3\\lib\\site-packages (from tensorboard<2.9,>=2.8->tensorflow) (1.8.1)\n",
      "Requirement already satisfied: tensorboard-data-server<0.7.0,>=0.6.0 in c:\\users\\nilay\\anaconda3\\lib\\site-packages (from tensorboard<2.9,>=2.8->tensorflow) (0.6.1)\n",
      "Requirement already satisfied: google-auth<3,>=1.6.3 in c:\\users\\nilay\\anaconda3\\lib\\site-packages (from tensorboard<2.9,>=2.8->tensorflow) (2.6.6)\n",
      "Requirement already satisfied: werkzeug>=0.11.15 in c:\\users\\nilay\\anaconda3\\lib\\site-packages (from tensorboard<2.9,>=2.8->tensorflow) (2.0.2)\n",
      "Requirement already satisfied: requests<3,>=2.21.0 in c:\\users\\nilay\\anaconda3\\lib\\site-packages (from tensorboard<2.9,>=2.8->tensorflow) (2.26.0)\n",
      "Requirement already satisfied: google-auth-oauthlib<0.5,>=0.4.1 in c:\\users\\nilay\\anaconda3\\lib\\site-packages (from tensorboard<2.9,>=2.8->tensorflow) (0.4.6)\n",
      "Requirement already satisfied: pyasn1-modules>=0.2.1 in c:\\users\\nilay\\anaconda3\\lib\\site-packages (from google-auth<3,>=1.6.3->tensorboard<2.9,>=2.8->tensorflow) (0.2.8)\n",
      "Requirement already satisfied: cachetools<6.0,>=2.0.0 in c:\\users\\nilay\\anaconda3\\lib\\site-packages (from google-auth<3,>=1.6.3->tensorboard<2.9,>=2.8->tensorflow) (5.0.0)\n",
      "Requirement already satisfied: rsa<5,>=3.1.4 in c:\\users\\nilay\\anaconda3\\lib\\site-packages (from google-auth<3,>=1.6.3->tensorboard<2.9,>=2.8->tensorflow) (4.8)\n",
      "Requirement already satisfied: requests-oauthlib>=0.7.0 in c:\\users\\nilay\\anaconda3\\lib\\site-packages (from google-auth-oauthlib<0.5,>=0.4.1->tensorboard<2.9,>=2.8->tensorflow) (1.3.1)\n",
      "Requirement already satisfied: importlib-metadata>=4.4 in c:\\users\\nilay\\anaconda3\\lib\\site-packages (from markdown>=2.6.8->tensorboard<2.9,>=2.8->tensorflow) (4.8.1)\n",
      "Requirement already satisfied: zipp>=0.5 in c:\\users\\nilay\\anaconda3\\lib\\site-packages (from importlib-metadata>=4.4->markdown>=2.6.8->tensorboard<2.9,>=2.8->tensorflow) (3.6.0)\n",
      "Requirement already satisfied: pyasn1<0.5.0,>=0.4.6 in c:\\users\\nilay\\anaconda3\\lib\\site-packages (from pyasn1-modules>=0.2.1->google-auth<3,>=1.6.3->tensorboard<2.9,>=2.8->tensorflow) (0.4.8)\n",
      "Requirement already satisfied: idna<4,>=2.5 in c:\\users\\nilay\\anaconda3\\lib\\site-packages (from requests<3,>=2.21.0->tensorboard<2.9,>=2.8->tensorflow) (3.2)\n",
      "Requirement already satisfied: certifi>=2017.4.17 in c:\\users\\nilay\\anaconda3\\lib\\site-packages (from requests<3,>=2.21.0->tensorboard<2.9,>=2.8->tensorflow) (2021.10.8)\n",
      "Requirement already satisfied: charset-normalizer~=2.0.0 in c:\\users\\nilay\\anaconda3\\lib\\site-packages (from requests<3,>=2.21.0->tensorboard<2.9,>=2.8->tensorflow) (2.0.4)\n",
      "Requirement already satisfied: urllib3<1.27,>=1.21.1 in c:\\users\\nilay\\anaconda3\\lib\\site-packages (from requests<3,>=2.21.0->tensorboard<2.9,>=2.8->tensorflow) (1.26.7)\n",
      "Requirement already satisfied: oauthlib>=3.0.0 in c:\\users\\nilay\\anaconda3\\lib\\site-packages (from requests-oauthlib>=0.7.0->google-auth-oauthlib<0.5,>=0.4.1->tensorboard<2.9,>=2.8->tensorflow) (3.2.0)\n"
     ]
    }
   ],
   "source": [
    "!pip install tensorflow"
   ]
  },
  {
   "cell_type": "code",
   "execution_count": 76,
   "id": "041d278a",
   "metadata": {},
   "outputs": [],
   "source": [
    "import tensorflow as tf\n",
    "from tensorflow import keras\n",
    "from keras import Sequential\n",
    "from keras.layers import Dense\n",
    "import pandas as pd"
   ]
  },
  {
   "cell_type": "code",
   "execution_count": 89,
   "id": "af53b681",
   "metadata": {},
   "outputs": [
    {
     "data": {
      "text/html": [
       "<div>\n",
       "<style scoped>\n",
       "    .dataframe tbody tr th:only-of-type {\n",
       "        vertical-align: middle;\n",
       "    }\n",
       "\n",
       "    .dataframe tbody tr th {\n",
       "        vertical-align: top;\n",
       "    }\n",
       "\n",
       "    .dataframe thead th {\n",
       "        text-align: right;\n",
       "    }\n",
       "</style>\n",
       "<table border=\"1\" class=\"dataframe\">\n",
       "  <thead>\n",
       "    <tr style=\"text-align: right;\">\n",
       "      <th></th>\n",
       "      <th>Serial No.</th>\n",
       "      <th>GRE Score</th>\n",
       "      <th>TOEFL Score</th>\n",
       "      <th>University Rating</th>\n",
       "      <th>SOP</th>\n",
       "      <th>LOR</th>\n",
       "      <th>CGPA</th>\n",
       "      <th>Research</th>\n",
       "      <th>Chance of Admit</th>\n",
       "    </tr>\n",
       "  </thead>\n",
       "  <tbody>\n",
       "    <tr>\n",
       "      <th>0</th>\n",
       "      <td>1</td>\n",
       "      <td>337</td>\n",
       "      <td>118</td>\n",
       "      <td>4</td>\n",
       "      <td>4.5</td>\n",
       "      <td>4.5</td>\n",
       "      <td>9.65</td>\n",
       "      <td>1</td>\n",
       "      <td>0.92</td>\n",
       "    </tr>\n",
       "    <tr>\n",
       "      <th>1</th>\n",
       "      <td>2</td>\n",
       "      <td>324</td>\n",
       "      <td>107</td>\n",
       "      <td>4</td>\n",
       "      <td>4.0</td>\n",
       "      <td>4.5</td>\n",
       "      <td>8.87</td>\n",
       "      <td>1</td>\n",
       "      <td>0.76</td>\n",
       "    </tr>\n",
       "    <tr>\n",
       "      <th>2</th>\n",
       "      <td>3</td>\n",
       "      <td>316</td>\n",
       "      <td>104</td>\n",
       "      <td>3</td>\n",
       "      <td>3.0</td>\n",
       "      <td>3.5</td>\n",
       "      <td>8.00</td>\n",
       "      <td>1</td>\n",
       "      <td>0.72</td>\n",
       "    </tr>\n",
       "    <tr>\n",
       "      <th>3</th>\n",
       "      <td>4</td>\n",
       "      <td>322</td>\n",
       "      <td>110</td>\n",
       "      <td>3</td>\n",
       "      <td>3.5</td>\n",
       "      <td>2.5</td>\n",
       "      <td>8.67</td>\n",
       "      <td>1</td>\n",
       "      <td>0.80</td>\n",
       "    </tr>\n",
       "    <tr>\n",
       "      <th>4</th>\n",
       "      <td>5</td>\n",
       "      <td>314</td>\n",
       "      <td>103</td>\n",
       "      <td>2</td>\n",
       "      <td>2.0</td>\n",
       "      <td>3.0</td>\n",
       "      <td>8.21</td>\n",
       "      <td>0</td>\n",
       "      <td>0.65</td>\n",
       "    </tr>\n",
       "  </tbody>\n",
       "</table>\n",
       "</div>"
      ],
      "text/plain": [
       "   Serial No.  GRE Score  TOEFL Score  University Rating  SOP  LOR   CGPA  \\\n",
       "0           1        337          118                  4  4.5   4.5  9.65   \n",
       "1           2        324          107                  4  4.0   4.5  8.87   \n",
       "2           3        316          104                  3  3.0   3.5  8.00   \n",
       "3           4        322          110                  3  3.5   2.5  8.67   \n",
       "4           5        314          103                  2  2.0   3.0  8.21   \n",
       "\n",
       "   Research  Chance of Admit   \n",
       "0         1              0.92  \n",
       "1         1              0.76  \n",
       "2         1              0.72  \n",
       "3         1              0.80  \n",
       "4         0              0.65  "
      ]
     },
     "execution_count": 89,
     "metadata": {},
     "output_type": "execute_result"
    }
   ],
   "source": [
    "df=pd.read_csv(\"Admission_Predict.csv\")\n",
    "df.head()"
   ]
  },
  {
   "cell_type": "code",
   "execution_count": 90,
   "id": "af7c34f4",
   "metadata": {},
   "outputs": [],
   "source": [
    "df.drop(\"Serial No.\",axis=1,inplace=True)"
   ]
  },
  {
   "cell_type": "code",
   "execution_count": 91,
   "id": "ff70ee72",
   "metadata": {
    "scrolled": true
   },
   "outputs": [
    {
     "data": {
      "text/html": [
       "<div>\n",
       "<style scoped>\n",
       "    .dataframe tbody tr th:only-of-type {\n",
       "        vertical-align: middle;\n",
       "    }\n",
       "\n",
       "    .dataframe tbody tr th {\n",
       "        vertical-align: top;\n",
       "    }\n",
       "\n",
       "    .dataframe thead th {\n",
       "        text-align: right;\n",
       "    }\n",
       "</style>\n",
       "<table border=\"1\" class=\"dataframe\">\n",
       "  <thead>\n",
       "    <tr style=\"text-align: right;\">\n",
       "      <th></th>\n",
       "      <th>GRE Score</th>\n",
       "      <th>TOEFL Score</th>\n",
       "      <th>University Rating</th>\n",
       "      <th>SOP</th>\n",
       "      <th>LOR</th>\n",
       "      <th>CGPA</th>\n",
       "      <th>Research</th>\n",
       "      <th>Chance of Admit</th>\n",
       "    </tr>\n",
       "  </thead>\n",
       "  <tbody>\n",
       "    <tr>\n",
       "      <th>0</th>\n",
       "      <td>337</td>\n",
       "      <td>118</td>\n",
       "      <td>4</td>\n",
       "      <td>4.5</td>\n",
       "      <td>4.5</td>\n",
       "      <td>9.65</td>\n",
       "      <td>1</td>\n",
       "      <td>0.92</td>\n",
       "    </tr>\n",
       "    <tr>\n",
       "      <th>1</th>\n",
       "      <td>324</td>\n",
       "      <td>107</td>\n",
       "      <td>4</td>\n",
       "      <td>4.0</td>\n",
       "      <td>4.5</td>\n",
       "      <td>8.87</td>\n",
       "      <td>1</td>\n",
       "      <td>0.76</td>\n",
       "    </tr>\n",
       "    <tr>\n",
       "      <th>2</th>\n",
       "      <td>316</td>\n",
       "      <td>104</td>\n",
       "      <td>3</td>\n",
       "      <td>3.0</td>\n",
       "      <td>3.5</td>\n",
       "      <td>8.00</td>\n",
       "      <td>1</td>\n",
       "      <td>0.72</td>\n",
       "    </tr>\n",
       "    <tr>\n",
       "      <th>3</th>\n",
       "      <td>322</td>\n",
       "      <td>110</td>\n",
       "      <td>3</td>\n",
       "      <td>3.5</td>\n",
       "      <td>2.5</td>\n",
       "      <td>8.67</td>\n",
       "      <td>1</td>\n",
       "      <td>0.80</td>\n",
       "    </tr>\n",
       "    <tr>\n",
       "      <th>4</th>\n",
       "      <td>314</td>\n",
       "      <td>103</td>\n",
       "      <td>2</td>\n",
       "      <td>2.0</td>\n",
       "      <td>3.0</td>\n",
       "      <td>8.21</td>\n",
       "      <td>0</td>\n",
       "      <td>0.65</td>\n",
       "    </tr>\n",
       "  </tbody>\n",
       "</table>\n",
       "</div>"
      ],
      "text/plain": [
       "   GRE Score  TOEFL Score  University Rating  SOP  LOR   CGPA  Research  \\\n",
       "0        337          118                  4  4.5   4.5  9.65         1   \n",
       "1        324          107                  4  4.0   4.5  8.87         1   \n",
       "2        316          104                  3  3.0   3.5  8.00         1   \n",
       "3        322          110                  3  3.5   2.5  8.67         1   \n",
       "4        314          103                  2  2.0   3.0  8.21         0   \n",
       "\n",
       "   Chance of Admit   \n",
       "0              0.92  \n",
       "1              0.76  \n",
       "2              0.72  \n",
       "3              0.80  \n",
       "4              0.65  "
      ]
     },
     "execution_count": 91,
     "metadata": {},
     "output_type": "execute_result"
    }
   ],
   "source": [
    "df.head()"
   ]
  },
  {
   "cell_type": "code",
   "execution_count": 92,
   "id": "3aa14ded",
   "metadata": {},
   "outputs": [
    {
     "data": {
      "text/plain": [
       "GRE Score            0\n",
       "TOEFL Score          0\n",
       "University Rating    0\n",
       "SOP                  0\n",
       "LOR                  0\n",
       "CGPA                 0\n",
       "Research             0\n",
       "Chance of Admit      0\n",
       "dtype: int64"
      ]
     },
     "execution_count": 92,
     "metadata": {},
     "output_type": "execute_result"
    }
   ],
   "source": [
    "df.isnull().sum()"
   ]
  },
  {
   "cell_type": "code",
   "execution_count": 93,
   "id": "4adf5d19",
   "metadata": {},
   "outputs": [
    {
     "data": {
      "text/plain": [
       "Index(['GRE Score', 'TOEFL Score', 'University Rating', 'SOP', 'LOR ', 'CGPA',\n",
       "       'Research', 'Chance of Admit '],\n",
       "      dtype='object')"
      ]
     },
     "execution_count": 93,
     "metadata": {},
     "output_type": "execute_result"
    }
   ],
   "source": [
    "df.columns"
   ]
  },
  {
   "cell_type": "code",
   "execution_count": 94,
   "id": "a365dffb",
   "metadata": {},
   "outputs": [
    {
     "data": {
      "text/html": [
       "<div>\n",
       "<style scoped>\n",
       "    .dataframe tbody tr th:only-of-type {\n",
       "        vertical-align: middle;\n",
       "    }\n",
       "\n",
       "    .dataframe tbody tr th {\n",
       "        vertical-align: top;\n",
       "    }\n",
       "\n",
       "    .dataframe thead th {\n",
       "        text-align: right;\n",
       "    }\n",
       "</style>\n",
       "<table border=\"1\" class=\"dataframe\">\n",
       "  <thead>\n",
       "    <tr style=\"text-align: right;\">\n",
       "      <th></th>\n",
       "      <th>GRE Score</th>\n",
       "      <th>TOEFL Score</th>\n",
       "      <th>University Rating</th>\n",
       "      <th>SOP</th>\n",
       "      <th>LOR</th>\n",
       "      <th>CGPA</th>\n",
       "      <th>Research</th>\n",
       "    </tr>\n",
       "  </thead>\n",
       "  <tbody>\n",
       "    <tr>\n",
       "      <th>0</th>\n",
       "      <td>337</td>\n",
       "      <td>118</td>\n",
       "      <td>4</td>\n",
       "      <td>4.5</td>\n",
       "      <td>4.5</td>\n",
       "      <td>9.65</td>\n",
       "      <td>1</td>\n",
       "    </tr>\n",
       "    <tr>\n",
       "      <th>1</th>\n",
       "      <td>324</td>\n",
       "      <td>107</td>\n",
       "      <td>4</td>\n",
       "      <td>4.0</td>\n",
       "      <td>4.5</td>\n",
       "      <td>8.87</td>\n",
       "      <td>1</td>\n",
       "    </tr>\n",
       "    <tr>\n",
       "      <th>2</th>\n",
       "      <td>316</td>\n",
       "      <td>104</td>\n",
       "      <td>3</td>\n",
       "      <td>3.0</td>\n",
       "      <td>3.5</td>\n",
       "      <td>8.00</td>\n",
       "      <td>1</td>\n",
       "    </tr>\n",
       "    <tr>\n",
       "      <th>3</th>\n",
       "      <td>322</td>\n",
       "      <td>110</td>\n",
       "      <td>3</td>\n",
       "      <td>3.5</td>\n",
       "      <td>2.5</td>\n",
       "      <td>8.67</td>\n",
       "      <td>1</td>\n",
       "    </tr>\n",
       "    <tr>\n",
       "      <th>4</th>\n",
       "      <td>314</td>\n",
       "      <td>103</td>\n",
       "      <td>2</td>\n",
       "      <td>2.0</td>\n",
       "      <td>3.0</td>\n",
       "      <td>8.21</td>\n",
       "      <td>0</td>\n",
       "    </tr>\n",
       "    <tr>\n",
       "      <th>...</th>\n",
       "      <td>...</td>\n",
       "      <td>...</td>\n",
       "      <td>...</td>\n",
       "      <td>...</td>\n",
       "      <td>...</td>\n",
       "      <td>...</td>\n",
       "      <td>...</td>\n",
       "    </tr>\n",
       "    <tr>\n",
       "      <th>395</th>\n",
       "      <td>324</td>\n",
       "      <td>110</td>\n",
       "      <td>3</td>\n",
       "      <td>3.5</td>\n",
       "      <td>3.5</td>\n",
       "      <td>9.04</td>\n",
       "      <td>1</td>\n",
       "    </tr>\n",
       "    <tr>\n",
       "      <th>396</th>\n",
       "      <td>325</td>\n",
       "      <td>107</td>\n",
       "      <td>3</td>\n",
       "      <td>3.0</td>\n",
       "      <td>3.5</td>\n",
       "      <td>9.11</td>\n",
       "      <td>1</td>\n",
       "    </tr>\n",
       "    <tr>\n",
       "      <th>397</th>\n",
       "      <td>330</td>\n",
       "      <td>116</td>\n",
       "      <td>4</td>\n",
       "      <td>5.0</td>\n",
       "      <td>4.5</td>\n",
       "      <td>9.45</td>\n",
       "      <td>1</td>\n",
       "    </tr>\n",
       "    <tr>\n",
       "      <th>398</th>\n",
       "      <td>312</td>\n",
       "      <td>103</td>\n",
       "      <td>3</td>\n",
       "      <td>3.5</td>\n",
       "      <td>4.0</td>\n",
       "      <td>8.78</td>\n",
       "      <td>0</td>\n",
       "    </tr>\n",
       "    <tr>\n",
       "      <th>399</th>\n",
       "      <td>333</td>\n",
       "      <td>117</td>\n",
       "      <td>4</td>\n",
       "      <td>5.0</td>\n",
       "      <td>4.0</td>\n",
       "      <td>9.66</td>\n",
       "      <td>1</td>\n",
       "    </tr>\n",
       "  </tbody>\n",
       "</table>\n",
       "<p>400 rows × 7 columns</p>\n",
       "</div>"
      ],
      "text/plain": [
       "     GRE Score  TOEFL Score  University Rating  SOP  LOR   CGPA  Research\n",
       "0          337          118                  4  4.5   4.5  9.65         1\n",
       "1          324          107                  4  4.0   4.5  8.87         1\n",
       "2          316          104                  3  3.0   3.5  8.00         1\n",
       "3          322          110                  3  3.5   2.5  8.67         1\n",
       "4          314          103                  2  2.0   3.0  8.21         0\n",
       "..         ...          ...                ...  ...   ...   ...       ...\n",
       "395        324          110                  3  3.5   3.5  9.04         1\n",
       "396        325          107                  3  3.0   3.5  9.11         1\n",
       "397        330          116                  4  5.0   4.5  9.45         1\n",
       "398        312          103                  3  3.5   4.0  8.78         0\n",
       "399        333          117                  4  5.0   4.0  9.66         1\n",
       "\n",
       "[400 rows x 7 columns]"
      ]
     },
     "execution_count": 94,
     "metadata": {},
     "output_type": "execute_result"
    }
   ],
   "source": [
    "X=df.iloc[:,0:-1]\n",
    "X"
   ]
  },
  {
   "cell_type": "code",
   "execution_count": 95,
   "id": "26034341",
   "metadata": {},
   "outputs": [
    {
     "data": {
      "text/html": [
       "<div>\n",
       "<style scoped>\n",
       "    .dataframe tbody tr th:only-of-type {\n",
       "        vertical-align: middle;\n",
       "    }\n",
       "\n",
       "    .dataframe tbody tr th {\n",
       "        vertical-align: top;\n",
       "    }\n",
       "\n",
       "    .dataframe thead th {\n",
       "        text-align: right;\n",
       "    }\n",
       "</style>\n",
       "<table border=\"1\" class=\"dataframe\">\n",
       "  <thead>\n",
       "    <tr style=\"text-align: right;\">\n",
       "      <th></th>\n",
       "      <th>Chance of Admit</th>\n",
       "    </tr>\n",
       "  </thead>\n",
       "  <tbody>\n",
       "    <tr>\n",
       "      <th>0</th>\n",
       "      <td>0.92</td>\n",
       "    </tr>\n",
       "    <tr>\n",
       "      <th>1</th>\n",
       "      <td>0.76</td>\n",
       "    </tr>\n",
       "    <tr>\n",
       "      <th>2</th>\n",
       "      <td>0.72</td>\n",
       "    </tr>\n",
       "    <tr>\n",
       "      <th>3</th>\n",
       "      <td>0.80</td>\n",
       "    </tr>\n",
       "    <tr>\n",
       "      <th>4</th>\n",
       "      <td>0.65</td>\n",
       "    </tr>\n",
       "    <tr>\n",
       "      <th>...</th>\n",
       "      <td>...</td>\n",
       "    </tr>\n",
       "    <tr>\n",
       "      <th>395</th>\n",
       "      <td>0.82</td>\n",
       "    </tr>\n",
       "    <tr>\n",
       "      <th>396</th>\n",
       "      <td>0.84</td>\n",
       "    </tr>\n",
       "    <tr>\n",
       "      <th>397</th>\n",
       "      <td>0.91</td>\n",
       "    </tr>\n",
       "    <tr>\n",
       "      <th>398</th>\n",
       "      <td>0.67</td>\n",
       "    </tr>\n",
       "    <tr>\n",
       "      <th>399</th>\n",
       "      <td>0.95</td>\n",
       "    </tr>\n",
       "  </tbody>\n",
       "</table>\n",
       "<p>400 rows × 1 columns</p>\n",
       "</div>"
      ],
      "text/plain": [
       "     Chance of Admit \n",
       "0                0.92\n",
       "1                0.76\n",
       "2                0.72\n",
       "3                0.80\n",
       "4                0.65\n",
       "..                ...\n",
       "395              0.82\n",
       "396              0.84\n",
       "397              0.91\n",
       "398              0.67\n",
       "399              0.95\n",
       "\n",
       "[400 rows x 1 columns]"
      ]
     },
     "execution_count": 95,
     "metadata": {},
     "output_type": "execute_result"
    }
   ],
   "source": [
    "y=df.iloc[:,7:]\n",
    "y"
   ]
  },
  {
   "cell_type": "code",
   "execution_count": 96,
   "id": "7fed8912",
   "metadata": {},
   "outputs": [],
   "source": [
    "from sklearn.model_selection import train_test_split\n",
    "X_train, X_test, y_train, y_test = train_test_split(X, y, test_size=0.25, random_state=42)"
   ]
  },
  {
   "cell_type": "code",
   "execution_count": 97,
   "id": "10923289",
   "metadata": {},
   "outputs": [],
   "source": [
    "from sklearn.preprocessing import MinMaxScaler"
   ]
  },
  {
   "cell_type": "code",
   "execution_count": 98,
   "id": "81613583",
   "metadata": {},
   "outputs": [],
   "source": [
    "scaler =MinMaxScaler()\n",
    "X_train_scaled=scaler.fit_transform(X_train)\n",
    "X_test_scaled=scaler.transform(X_test)"
   ]
  },
  {
   "cell_type": "code",
   "execution_count": 99,
   "id": "b157a820",
   "metadata": {},
   "outputs": [],
   "source": [
    "#ANN model biluding\n",
    "model=Sequential()\n",
    "layer1=Dense(units=10, activation='relu',input_dim=7)\n",
    "layer2=Dense(units=1, activation='linear')\n"
   ]
  },
  {
   "cell_type": "code",
   "execution_count": 100,
   "id": "e8cbc7ff",
   "metadata": {
    "scrolled": true
   },
   "outputs": [
    {
     "name": "stdout",
     "output_type": "stream",
     "text": [
      "Model: \"sequential_6\"\n",
      "_________________________________________________________________\n",
      " Layer (type)                Output Shape              Param #   \n",
      "=================================================================\n",
      " dense_13 (Dense)            (None, 10)                80        \n",
      "                                                                 \n",
      " dense_14 (Dense)            (None, 1)                 11        \n",
      "                                                                 \n",
      "=================================================================\n",
      "Total params: 91\n",
      "Trainable params: 91\n",
      "Non-trainable params: 0\n",
      "_________________________________________________________________\n"
     ]
    }
   ],
   "source": [
    "model.add(layer1)\n",
    "model.add(layer2)\n",
    "model.summary()"
   ]
  },
  {
   "cell_type": "code",
   "execution_count": 101,
   "id": "770c526f",
   "metadata": {
    "scrolled": true
   },
   "outputs": [
    {
     "data": {
      "text/plain": [
       "[array([[ 0.36529958, -0.05021554, -0.3705048 , -0.30265117,  0.52770054,\n",
       "          0.4670472 ,  0.5280857 , -0.01872903, -0.5829582 , -0.4081427 ],\n",
       "        [-0.25621533,  0.2813763 ,  0.13236052,  0.23471159,  0.54731655,\n",
       "         -0.05607939, -0.0170024 ,  0.5518944 , -0.2571928 ,  0.46909833],\n",
       "        [ 0.05238336, -0.587996  ,  0.56870687, -0.42921585, -0.39924276,\n",
       "          0.5846747 , -0.08180022, -0.31326267,  0.35550535, -0.17516565],\n",
       "        [-0.51920354,  0.47845197,  0.0043726 , -0.25695682, -0.40217263,\n",
       "          0.58225024,  0.44919765,  0.32882625,  0.45825458,  0.5319613 ],\n",
       "        [ 0.4788611 , -0.3284467 , -0.40165448, -0.22585711, -0.11355603,\n",
       "          0.07009369, -0.2623045 ,  0.04903412, -0.05896318, -0.375975  ],\n",
       "        [ 0.095514  , -0.276264  ,  0.35854226,  0.10226446, -0.259619  ,\n",
       "          0.4006409 ,  0.53134716,  0.31224227,  0.3699596 ,  0.20988661],\n",
       "        [-0.08364016,  0.0512293 , -0.2649409 ,  0.10700017, -0.32036304,\n",
       "          0.3011278 ,  0.51067674, -0.19914916,  0.38387632,  0.36961812]],\n",
       "       dtype=float32),\n",
       " array([0., 0., 0., 0., 0., 0., 0., 0., 0., 0.], dtype=float32)]"
      ]
     },
     "execution_count": 101,
     "metadata": {},
     "output_type": "execute_result"
    }
   ],
   "source": [
    "model.layers[0].get_weights()"
   ]
  },
  {
   "cell_type": "code",
   "execution_count": 102,
   "id": "3bce80f8",
   "metadata": {},
   "outputs": [
    {
     "data": {
      "text/plain": [
       "array([0.], dtype=float32)"
      ]
     },
     "execution_count": 102,
     "metadata": {},
     "output_type": "execute_result"
    }
   ],
   "source": [
    "model.layers[1].get_weights()[1]"
   ]
  },
  {
   "cell_type": "code",
   "execution_count": 103,
   "id": "9381bb50",
   "metadata": {},
   "outputs": [],
   "source": [
    "model.compile(loss='mae',optimizer=\"SGD\",metrics=['mae'])"
   ]
  },
  {
   "cell_type": "code",
   "execution_count": 104,
   "id": "65c547e9",
   "metadata": {
    "scrolled": true
   },
   "outputs": [
    {
     "name": "stdout",
     "output_type": "stream",
     "text": [
      "Epoch 1/5\n",
      "10/10 [==============================] - 0s 16ms/step - loss: 0.5839 - mae: 0.5839 - val_loss: 0.1529 - val_mae: 0.1529\n",
      "Epoch 2/5\n",
      "10/10 [==============================] - 0s 5ms/step - loss: 0.1094 - mae: 0.1094 - val_loss: 0.0993 - val_mae: 0.0993\n",
      "Epoch 3/5\n",
      "10/10 [==============================] - 0s 5ms/step - loss: 0.1004 - mae: 0.1004 - val_loss: 0.0975 - val_mae: 0.0975\n",
      "Epoch 4/5\n",
      "10/10 [==============================] - 0s 5ms/step - loss: 0.0974 - mae: 0.0974 - val_loss: 0.1092 - val_mae: 0.1092\n",
      "Epoch 5/5\n",
      "10/10 [==============================] - 0s 5ms/step - loss: 0.0960 - mae: 0.0960 - val_loss: 0.0856 - val_mae: 0.0856\n"
     ]
    }
   ],
   "source": [
    "result=model.fit(X_train_scaled,y_train,validation_data=(X_test_scaled,y_test), verbose=1,epochs=5)"
   ]
  },
  {
   "cell_type": "code",
   "execution_count": 105,
   "id": "b446f440",
   "metadata": {},
   "outputs": [
    {
     "data": {
      "text/plain": [
       "[array([[ 0.3702218 , -0.05011695, -0.36782363, -0.30328694,  0.518351  ,\n",
       "          0.48534766,  0.48142686,  0.00169354, -0.601409  , -0.35808408],\n",
       "        [-0.2529127 ,  0.2809671 ,  0.13330886,  0.23420547,  0.5400485 ,\n",
       "         -0.045485  , -0.04997325,  0.5651983 , -0.26911506,  0.5022039 ],\n",
       "        [ 0.0555144 , -0.5882536 ,  0.5700894 , -0.42921585, -0.40261552,\n",
       "          0.59502715, -0.11366457, -0.30038744,  0.34191436, -0.14292197],\n",
       "        [-0.51613337,  0.47825277,  0.00414867, -0.2568962 , -0.40587536,\n",
       "          0.59046257,  0.4199628 ,  0.340158  ,  0.44639245,  0.5608067 ],\n",
       "        [ 0.48366037, -0.32837588, -0.40065432, -0.22607264, -0.12174667,\n",
       "          0.08619493, -0.30675033,  0.06786121, -0.07635642, -0.3295528 ],\n",
       "        [ 0.10027359, -0.27617764,  0.36118644,  0.10170563, -0.26814604,\n",
       "          0.41808987,  0.48505965,  0.3321164 ,  0.35160145,  0.25907877],\n",
       "        [-0.07723666,  0.05089731, -0.2616719 ,  0.10592257, -0.32036304,\n",
       "          0.32644257,  0.45058572, -0.17219229,  0.35176542,  0.43722183]],\n",
       "       dtype=float32),\n",
       " array([ 0.00987623,  0.00026658,  0.00585211, -0.00140091, -0.02441904,\n",
       "         0.03524733, -0.08970653,  0.03911032, -0.03210675,  0.09536005],\n",
       "       dtype=float32)]"
      ]
     },
     "execution_count": 105,
     "metadata": {},
     "output_type": "execute_result"
    }
   ],
   "source": [
    "model.layers[0].get_weights()\n",
    "[ 0.36529958, -0.05021554, -0.3705048 , -0.30265117,  0.52770054,\n",
    "          0.4670472 ,  0.5280857 , -0.01872903, -0.5829582 , -0.4081427 ],"
   ]
  },
  {
   "cell_type": "code",
   "execution_count": 106,
   "id": "39713943",
   "metadata": {},
   "outputs": [
    {
     "data": {
      "text/plain": [
       "([0.09158942848443985, 0.09158942848443985],\n",
       " [0.0856085866689682, 0.0856085866689682])"
      ]
     },
     "execution_count": 106,
     "metadata": {},
     "output_type": "execute_result"
    }
   ],
   "source": [
    "train_mse = model.evaluate(X_train_scaled, y_train, verbose=0)\n",
    "test_mse = model.evaluate(X_test_scaled, y_test, verbose=0)\n",
    "train_mse,test_mse "
   ]
  },
  {
   "cell_type": "code",
   "execution_count": 108,
   "id": "c1b625fb",
   "metadata": {},
   "outputs": [
    {
     "data": {
      "text/plain": [
       "{'loss': [0.5838586091995239,\n",
       "  0.10939731448888779,\n",
       "  0.10036160796880722,\n",
       "  0.09743033349514008,\n",
       "  0.09598495811223984],\n",
       " 'mae': [0.5838586091995239,\n",
       "  0.10939731448888779,\n",
       "  0.10036161541938782,\n",
       "  0.09743033349514008,\n",
       "  0.09598495811223984],\n",
       " 'val_loss': [0.15291787683963776,\n",
       "  0.09925998002290726,\n",
       "  0.09746841341257095,\n",
       "  0.10915971547365189,\n",
       "  0.0856085866689682],\n",
       " 'val_mae': [0.15291787683963776,\n",
       "  0.09925998002290726,\n",
       "  0.09746841341257095,\n",
       "  0.10915971547365189,\n",
       "  0.0856085866689682]}"
      ]
     },
     "execution_count": 108,
     "metadata": {},
     "output_type": "execute_result"
    }
   ],
   "source": [
    "result.history"
   ]
  },
  {
   "cell_type": "code",
   "execution_count": 60,
   "id": "4757f1d7",
   "metadata": {},
   "outputs": [
    {
     "data": {
      "image/png": "[encoded data removed]",
      "text/plain": [
       "<Figure size 432x288 with 1 Axes>"
      ]
     },
     "metadata": {
      "needs_background": "light"
     },
     "output_type": "display_data"
    }
   ],
   "source": [
    "# plot loss during training\n",
    "import matplotlib.pyplot as plt\n",
    "plt.title('Mean Absolute Error Loss')\n",
    "plt.plot(result.history['loss'], label='train')\n",
    "plt.plot(result.history['val_loss'], label='test')\n",
    "plt.legend()\n",
    "plt.show()"
   ]
  },
  {
   "cell_type": "code",
   "execution_count": 61,
   "id": "180b3e5e",
   "metadata": {},
   "outputs": [
    {
     "data": {
      "image/png": "[encoded data removed]",
      "text/plain": [
       "<Figure size 432x288 with 1 Axes>"
      ]
     },
     "metadata": {
      "needs_background": "light"
     },
     "output_type": "display_data"
    }
   ],
   "source": [
    "# plot loss during training\n",
    "import matplotlib.pyplot as plt\n",
    "plt.title('Mean Absolute Error Loss')\n",
    "\n",
    "plt.plot(result.history['mae'])\n",
    "plt.plot(result.history['val_mae'])\n",
    "plt.title('model accuracy')\n",
    "plt.ylabel('accuracy')\n",
    "plt.xlabel('epoch')\n",
    "plt.legend(['train', 'test'], loc='upper left')\n",
    "plt.show()"
   ]
  },
  {
   "cell_type": "code",
   "execution_count": 19,
   "id": "65b14eea",
   "metadata": {},
   "outputs": [
    {
     "name": "stdout",
     "output_type": "stream",
     "text": [
      "Model: \"sequential_1\"\n",
      "_________________________________________________________________\n",
      " Layer (type)                Output Shape              Param #   \n",
      "=================================================================\n",
      " dense_2 (Dense)             (None, 100)               1100      \n",
      "                                                                 \n",
      " dense_3 (Dense)             (None, 10)                1010      \n",
      "                                                                 \n",
      " dense_4 (Dense)             (None, 1)                 11        \n",
      "                                                                 \n",
      "=================================================================\n",
      "Total params: 2,121\n",
      "Trainable params: 2,121\n",
      "Non-trainable params: 0\n",
      "_________________________________________________________________\n"
     ]
    },
    {
     "data": {
      "text/plain": [
       "[array([[-0.03671788,  0.15024325,  0.12383077,  0.11902118, -0.11397485,\n",
       "          0.12128401, -0.06926417,  0.09558773, -0.02665475, -0.16554788,\n",
       "          0.2171672 ,  0.08721057,  0.2191593 , -0.12547424, -0.16631162,\n",
       "          0.05410326, -0.22551659, -0.18634933,  0.21317983, -0.05906424,\n",
       "          0.06629255,  0.12325341,  0.19499162, -0.21346186,  0.20283973,\n",
       "         -0.07444037,  0.22806227,  0.08622292,  0.21666104, -0.06054512,\n",
       "          0.19996473,  0.02676088,  0.17998776,  0.12957275, -0.22587763,\n",
       "          0.09261456,  0.08336517, -0.11197461, -0.13064075,  0.22343037,\n",
       "          0.04638845, -0.02559817,  0.06991467, -0.1060203 , -0.03442314,\n",
       "         -0.22928101, -0.05323394,  0.16574746,  0.10721532, -0.10341431,\n",
       "         -0.17934753,  0.08410743, -0.20982406, -0.16076526, -0.13280323,\n",
       "          0.01463217,  0.22297972, -0.01954365, -0.08509652,  0.00270879,\n",
       "          0.14712942,  0.06265488,  0.03877255,  0.15887773,  0.01097102,\n",
       "         -0.06136627, -0.12014364, -0.17772873, -0.13345867, -0.22939554,\n",
       "          0.12910601, -0.1167475 ,  0.08351129,  0.14983916,  0.12337729,\n",
       "          0.19787446,  0.20840305, -0.03716099, -0.1139617 , -0.08090162,\n",
       "         -0.12176656, -0.11109845,  0.07118323, -0.19488153,  0.10779548,\n",
       "          0.0050395 ,  0.1032902 ,  0.16506734,  0.17520982, -0.15286535,\n",
       "         -0.11854165,  0.10163632, -0.08215225,  0.06999719, -0.07634996,\n",
       "          0.08443817, -0.10444443, -0.05477807, -0.09469853, -0.15668567],\n",
       "        [-0.08810605,  0.2229268 ,  0.22273713, -0.15370187,  0.20966387,\n",
       "          0.04311234,  0.03290835, -0.00995666, -0.20408046,  0.2124413 ,\n",
       "         -0.02307364, -0.21919744,  0.0944944 , -0.05681038,  0.03464758,\n",
       "          0.17946297, -0.03545661,  0.11612314,  0.04733405,  0.04000247,\n",
       "         -0.03675289, -0.17286056,  0.14733312,  0.05233094,  0.12466127,\n",
       "          0.17644724, -0.15004714,  0.12492526, -0.16902292, -0.09177782,\n",
       "          0.17921388,  0.20844597,  0.18014497, -0.2084267 ,  0.23159328,\n",
       "          0.09467721, -0.0788638 ,  0.0041934 ,  0.08743224,  0.06539458,\n",
       "          0.22512925, -0.12076489,  0.17407122,  0.18852207, -0.07356805,\n",
       "          0.21589836, -0.09190337,  0.05207708, -0.08465201,  0.10767794,\n",
       "         -0.18120772, -0.0625498 ,  0.01092125,  0.05690828,  0.05632281,\n",
       "          0.19315493, -0.11794896, -0.08995159, -0.13637373, -0.20643172,\n",
       "         -0.1856557 ,  0.21857235,  0.08882964,  0.19056824, -0.05972953,\n",
       "         -0.14418772, -0.07918303,  0.07822496,  0.18795913, -0.12765238,\n",
       "         -0.13746727, -0.01963858, -0.03502613, -0.0481323 ,  0.16167963,\n",
       "          0.07191372, -0.08576672, -0.20476457,  0.14882657, -0.20607868,\n",
       "         -0.09339646, -0.057594  ,  0.05725372, -0.20084178,  0.11523911,\n",
       "         -0.03607485,  0.08660373,  0.12126783, -0.17913099,  0.01801193,\n",
       "          0.11206064,  0.09293529, -0.16823596,  0.07804459, -0.16588387,\n",
       "          0.09299171, -0.21198554,  0.14450917, -0.01002504, -0.18443976],\n",
       "        [ 0.13398677, -0.08018877, -0.01925126, -0.18007697,  0.13520566,\n",
       "         -0.19862457, -0.19793744, -0.23298067, -0.10963472, -0.15494403,\n",
       "          0.06131521,  0.05349031, -0.16916949,  0.16680726, -0.08713807,\n",
       "          0.22878614,  0.14526382, -0.17485595,  0.17701405, -0.18452986,\n",
       "          0.11778665, -0.1844397 ,  0.02481973,  0.16240534,  0.19569004,\n",
       "          0.11685362, -0.00340788,  0.0085495 ,  0.03223923, -0.10831282,\n",
       "          0.06943575, -0.07503311,  0.14568439, -0.1340679 ,  0.21235517,\n",
       "          0.0245994 ,  0.09430557,  0.00127184,  0.1977126 , -0.03716128,\n",
       "         -0.04892261, -0.06042752,  0.11240137, -0.08954817, -0.03572105,\n",
       "         -0.12252463,  0.05939361, -0.13675582, -0.06370594,  0.17965856,\n",
       "          0.2037929 , -0.11571459,  0.20872316,  0.1439994 , -0.15181923,\n",
       "         -0.00784166, -0.20447741, -0.16447154, -0.01234923, -0.1261695 ,\n",
       "         -0.13782448,  0.14130324, -0.10846756, -0.14337203,  0.19726586,\n",
       "          0.08731297, -0.01940621,  0.01803541,  0.23268455,  0.11106834,\n",
       "         -0.21298444, -0.01305707, -0.0313175 ,  0.15732166,  0.1868864 ,\n",
       "          0.16091895, -0.21998423,  0.08590665, -0.09073828, -0.19632387,\n",
       "          0.1880613 , -0.04257858,  0.14872083,  0.1600802 , -0.20250002,\n",
       "         -0.22900303, -0.08590698, -0.01680928,  0.00969662,  0.09027761,\n",
       "          0.03695214,  0.23260593, -0.00034228, -0.02407092,  0.11531925,\n",
       "          0.09039226,  0.04323384,  0.13274729, -0.13981111, -0.13104428],\n",
       "        [-0.14681694, -0.15595394,  0.19446436, -0.03933847,  0.10155034,\n",
       "          0.19907081, -0.22988783, -0.07417277,  0.21559712,  0.08358547,\n",
       "          0.0374535 ,  0.22390208, -0.03525771,  0.16830662,  0.02455133,\n",
       "          0.21253824, -0.05101098, -0.173195  , -0.04825608,  0.15322846,\n",
       "          0.13679475, -0.03091396, -0.16616926, -0.01321687,  0.07560253,\n",
       "          0.20810267,  0.08229223, -0.18687047,  0.22100568, -0.0183879 ,\n",
       "          0.1314657 , -0.14636785,  0.13663453, -0.23189719, -0.06799072,\n",
       "         -0.10069054, -0.11700036,  0.22562322,  0.03296548, -0.12087464,\n",
       "         -0.00449698,  0.22391972,  0.04484686, -0.12061622,  0.1910592 ,\n",
       "         -0.08368942,  0.07935983,  0.23022795, -0.13513869,  0.08495158,\n",
       "         -0.21951695,  0.09703565, -0.03557114, -0.15277174,  0.04735771,\n",
       "         -0.13906358,  0.2288019 , -0.03335448, -0.03739849,  0.02768388,\n",
       "         -0.02528162,  0.22146288,  0.21889141, -0.12251321,  0.07996926,\n",
       "          0.12908414, -0.14783174, -0.18473879, -0.14061105, -0.11953954,\n",
       "          0.18477163,  0.21658576,  0.10744646, -0.05909231,  0.00237887,\n",
       "         -0.1012232 ,  0.10518718, -0.1021795 , -0.10631604, -0.15185186,\n",
       "         -0.15643615, -0.03305753,  0.19816914,  0.01644301,  0.01823589,\n",
       "         -0.23078014,  0.07229403,  0.2114462 ,  0.22656804,  0.22457865,\n",
       "          0.05107078,  0.14933881, -0.00072236,  0.23317629, -0.1062627 ,\n",
       "          0.12363711, -0.18329549,  0.00032881,  0.05849478, -0.15864864],\n",
       "        [ 0.14870697,  0.07849675, -0.18778066, -0.2136406 , -0.03418148,\n",
       "         -0.07328396,  0.13858828,  0.18088877,  0.07612774,  0.06050637,\n",
       "         -0.15091723, -0.11213504, -0.10747267, -0.15327027, -0.16639599,\n",
       "          0.15211824,  0.08809948, -0.18724784,  0.195865  ,  0.14627793,\n",
       "         -0.13482992,  0.10894147,  0.13120455, -0.15212922,  0.11671403,\n",
       "          0.15398332, -0.2321427 , -0.04010879,  0.17059803, -0.20346583,\n",
       "         -0.14265665, -0.03497256, -0.04304503, -0.17464018,  0.15261465,\n",
       "         -0.16093202, -0.22842288, -0.09224138, -0.06193712, -0.05619052,\n",
       "         -0.1491624 , -0.1229536 , -0.19084254, -0.16358551, -0.15307817,\n",
       "          0.06585684,  0.1612955 ,  0.17130569,  0.09358823, -0.03881232,\n",
       "         -0.02783032,  0.07518843,  0.20849687,  0.16455361, -0.01296169,\n",
       "          0.12980145,  0.15759012, -0.04143815,  0.08246285, -0.00881216,\n",
       "         -0.09823449, -0.05378659,  0.02122054, -0.09157591, -0.07174912,\n",
       "          0.07229793,  0.03222296, -0.18296161, -0.09536767, -0.01260175,\n",
       "          0.06292811,  0.04175186, -0.12554346,  0.14059213,  0.21951696,\n",
       "          0.20820633,  0.17672089,  0.07597163,  0.06992128,  0.03317258,\n",
       "          0.03003779, -0.01370193, -0.13430762,  0.04191184, -0.10450569,\n",
       "          0.15991253, -0.13502994, -0.03186882,  0.03049085,  0.08366993,\n",
       "         -0.02038835,  0.01073627,  0.12494415,  0.1327568 , -0.21478894,\n",
       "          0.07904938, -0.05057894,  0.1918166 ,  0.08662874, -0.12121347],\n",
       "        [ 0.15737408, -0.22682123, -0.0162988 ,  0.07255936,  0.05538863,\n",
       "          0.1160664 , -0.15972477, -0.0369415 , -0.19042563,  0.17996788,\n",
       "          0.1723299 ,  0.20909274, -0.02903467, -0.03610219,  0.09398836,\n",
       "          0.08279249,  0.04210362,  0.13986781,  0.06405824,  0.21639031,\n",
       "          0.11014745, -0.09582427, -0.06473161,  0.06439608,  0.02052125,\n",
       "          0.10496083, -0.05274366, -0.22436467,  0.20627329,  0.01209894,\n",
       "         -0.23223424,  0.19731975,  0.0339509 ,  0.16804752, -0.05921926,\n",
       "         -0.09898832, -0.0465468 ,  0.04786518,  0.02119765, -0.08760981,\n",
       "          0.05356944, -0.00158517, -0.13887805, -0.07396273, -0.21154019,\n",
       "         -0.08924994, -0.16781744,  0.08396566,  0.23121348,  0.0490391 ,\n",
       "         -0.09770578, -0.1341188 , -0.0542659 , -0.21561995,  0.14961341,\n",
       "          0.10534695, -0.0225049 , -0.09995069,  0.16326842,  0.12725782,\n",
       "          0.03749982,  0.16704386,  0.07430774, -0.11453936, -0.09923655,\n",
       "         -0.12195744, -0.04133524,  0.1712513 ,  0.01143058,  0.00254849,\n",
       "         -0.00732459, -0.19447766,  0.03638339, -0.0005576 ,  0.07303134,\n",
       "          0.0914866 ,  0.15058598, -0.09692529,  0.21412319, -0.12962762,\n",
       "          0.12791961, -0.17379475,  0.04484797,  0.03343171,  0.06388217,\n",
       "          0.09235486,  0.04857692, -0.19232441,  0.18734857, -0.08520432,\n",
       "          0.12681147,  0.13864964, -0.04186405,  0.05388397,  0.0030856 ,\n",
       "         -0.07587415, -0.22044323, -0.19358718,  0.20355499, -0.17077191],\n",
       "        [-0.13030387, -0.15381178, -0.00029483,  0.16362476,  0.22137952,\n",
       "         -0.0928001 , -0.02066363, -0.2143442 , -0.22357164,  0.00717793,\n",
       "          0.04861069,  0.203468  ,  0.05822983,  0.18072712,  0.05171838,\n",
       "         -0.14987713, -0.1124786 , -0.1720657 , -0.22723901,  0.10116038,\n",
       "         -0.23205845, -0.0874927 ,  0.14821157, -0.05290559, -0.19290134,\n",
       "         -0.21103337, -0.12108217,  0.17203274, -0.12175905, -0.165429  ,\n",
       "         -0.10007197, -0.18081404,  0.07197046, -0.00487234,  0.0109894 ,\n",
       "          0.18752548,  0.03547871, -0.06907001, -0.20914751,  0.21861312,\n",
       "         -0.06550533,  0.05138573, -0.18543877, -0.05479239, -0.12581044,\n",
       "          0.22884756, -0.06089197,  0.18618375,  0.18814048,  0.19106409,\n",
       "          0.01095755,  0.19329935,  0.21957746,  0.08843759, -0.19925639,\n",
       "          0.06878659,  0.09017515,  0.10403645,  0.07764542, -0.22798064,\n",
       "          0.20227912, -0.21692348,  0.0328936 ,  0.11465585,  0.0918825 ,\n",
       "          0.09809351, -0.03606817,  0.08121049, -0.10657997,  0.10490021,\n",
       "          0.10921967, -0.15737396,  0.01363778,  0.09957233, -0.03736451,\n",
       "         -0.00097311, -0.19971055,  0.04899415,  0.03977188,  0.18175375,\n",
       "          0.19297034, -0.072835  , -0.1400917 ,  0.20021415,  0.18582425,\n",
       "         -0.04086918,  0.15361986,  0.16955596,  0.02004766,  0.18361712,\n",
       "          0.00958765, -0.11918662,  0.05025157, -0.00135148,  0.01523235,\n",
       "         -0.1256296 ,  0.11661226,  0.04928777,  0.01125389,  0.10960972],\n",
       "        [ 0.18085268,  0.08817437, -0.03180294, -0.13985205, -0.16759439,\n",
       "         -0.06223647,  0.20001623, -0.09155926, -0.03487183,  0.18162763,\n",
       "         -0.00176397,  0.19896045, -0.00731324,  0.15465781, -0.0881315 ,\n",
       "         -0.15908471, -0.13645318, -0.1654436 , -0.06786092,  0.06790596,\n",
       "         -0.10691273,  0.14560422,  0.00708115, -0.11492345,  0.06747994,\n",
       "          0.14148289,  0.09874538,  0.15144327, -0.2316136 ,  0.13962841,\n",
       "          0.04865193, -0.02012697,  0.15251788,  0.11096847,  0.06921446,\n",
       "         -0.22785792,  0.15318719,  0.20771357,  0.09197238, -0.12950756,\n",
       "          0.12293819,  0.09304661, -0.06157102, -0.10709865, -0.23340958,\n",
       "         -0.05000775, -0.01170421,  0.15827847, -0.2116127 ,  0.19315878,\n",
       "         -0.22065589,  0.12131152, -0.21994248,  0.1309191 , -0.03052971,\n",
       "          0.0327217 ,  0.01903141, -0.09357208,  0.18845397, -0.13627276,\n",
       "         -0.0220219 ,  0.18143055, -0.20368573, -0.05935653,  0.21788901,\n",
       "         -0.13941288, -0.02048524, -0.18344454,  0.00686561,  0.12460449,\n",
       "          0.04192564, -0.06231037, -0.04749535,  0.00266263,  0.02956745,\n",
       "         -0.16538028,  0.08187956,  0.0557909 , -0.13860959,  0.1487244 ,\n",
       "         -0.10216819,  0.22862718,  0.2021069 , -0.13000748,  0.1544087 ,\n",
       "         -0.1853877 ,  0.06083834, -0.00409991, -0.1516161 , -0.01099703,\n",
       "         -0.16598538, -0.03676103,  0.22141305,  0.10306129,  0.1157141 ,\n",
       "          0.00946347, -0.12206485, -0.21494786, -0.12481641,  0.20351255],\n",
       "        [ 0.04439923, -0.04301274,  0.13744217, -0.08032614,  0.15949458,\n",
       "          0.01229872,  0.00274833,  0.05422983,  0.20722643,  0.19281632,\n",
       "          0.15637425,  0.05096656, -0.13444376,  0.15523258, -0.04382476,\n",
       "          0.03770158,  0.10303894,  0.15640175,  0.00091292,  0.23274451,\n",
       "          0.18790755,  0.05544209, -0.01080392, -0.11701773,  0.036282  ,\n",
       "         -0.11409573, -0.02295265,  0.09577471, -0.21916425, -0.01435876,\n",
       "          0.11511004, -0.16397196,  0.06866702,  0.16454712,  0.02078259,\n",
       "         -0.15852281,  0.19582495, -0.11814875, -0.00963159,  0.01587644,\n",
       "         -0.17892061,  0.21919098,  0.165081  ,  0.18007892, -0.04246649,\n",
       "         -0.22284332, -0.16733319, -0.16526702,  0.11412442,  0.18208751,\n",
       "          0.14849404, -0.2021367 , -0.22771142,  0.00410743, -0.02263102,\n",
       "          0.05515918, -0.21910179,  0.18756995,  0.15544134, -0.02385727,\n",
       "         -0.22942355, -0.11320804, -0.03774016,  0.17283005, -0.17294174,\n",
       "          0.00893059,  0.07822368,  0.20497417,  0.13974252, -0.05955309,\n",
       "          0.21511954,  0.12569842, -0.10059921,  0.08822572, -0.12099787,\n",
       "          0.18655047,  0.14975351,  0.12517679, -0.05097167, -0.2327165 ,\n",
       "         -0.1985146 , -0.08403449, -0.17705686, -0.15456393,  0.0133763 ,\n",
       "         -0.16243628,  0.2322064 , -0.22762589,  0.10244805, -0.18008938,\n",
       "          0.09306571, -0.17668524, -0.12881848, -0.00619118,  0.04171646,\n",
       "         -0.14645126,  0.12457058,  0.1933625 ,  0.10296446, -0.14175856],\n",
       "        [ 0.0967353 , -0.20692906,  0.0592373 , -0.20832849, -0.10089785,\n",
       "         -0.11412608,  0.01181127,  0.11237302,  0.12227404,  0.02163574,\n",
       "          0.16760725,  0.16431123, -0.10871261, -0.12965006, -0.09376274,\n",
       "          0.11109921, -0.21771245,  0.18840536, -0.1819057 , -0.08439241,\n",
       "         -0.20818081,  0.00551124,  0.05231068, -0.11922749, -0.09502712,\n",
       "          0.15128079, -0.16677073, -0.01783614,  0.04230466,  0.04515162,\n",
       "         -0.13816392, -0.05451865, -0.14985064, -0.1840629 ,  0.03792924,\n",
       "         -0.16827132,  0.20379853, -0.18974754,  0.19193813,  0.16168785,\n",
       "          0.03592244,  0.178552  , -0.11281019, -0.07344115, -0.15399519,\n",
       "         -0.13211267,  0.05545801,  0.08865777, -0.09002125,  0.17443821,\n",
       "          0.18203628,  0.21693629, -0.17367086, -0.21284768,  0.02344453,\n",
       "         -0.08952656, -0.1313898 , -0.01413402, -0.23311158,  0.11480907,\n",
       "          0.0913524 ,  0.17915425, -0.0075677 , -0.073516  ,  0.09136632,\n",
       "         -0.04847202,  0.11518884, -0.01484291,  0.17047495,  0.0925107 ,\n",
       "         -0.04682165, -0.06118453,  0.07140428,  0.10781679, -0.02951278,\n",
       "          0.19142452,  0.22080371, -0.17283767,  0.21380836, -0.06835727,\n",
       "          0.2262797 ,  0.06109706,  0.12856847,  0.1338014 , -0.06865127,\n",
       "         -0.22416694,  0.11921379,  0.19360596,  0.06984156, -0.16989893,\n",
       "          0.22172788, -0.14489906,  0.19525144,  0.05255538, -0.10579696,\n",
       "         -0.04371729,  0.21227366,  0.00150643,  0.0909223 , -0.0832155 ]],\n",
       "       dtype=float32),\n",
       " array([0., 0., 0., 0., 0., 0., 0., 0., 0., 0., 0., 0., 0., 0., 0., 0., 0.,\n",
       "        0., 0., 0., 0., 0., 0., 0., 0., 0., 0., 0., 0., 0., 0., 0., 0., 0.,\n",
       "        0., 0., 0., 0., 0., 0., 0., 0., 0., 0., 0., 0., 0., 0., 0., 0., 0.,\n",
       "        0., 0., 0., 0., 0., 0., 0., 0., 0., 0., 0., 0., 0., 0., 0., 0., 0.,\n",
       "        0., 0., 0., 0., 0., 0., 0., 0., 0., 0., 0., 0., 0., 0., 0., 0., 0.,\n",
       "        0., 0., 0., 0., 0., 0., 0., 0., 0., 0., 0., 0., 0., 0., 0.],\n",
       "       dtype=float32)]"
      ]
     },
     "execution_count": 19,
     "metadata": {},
     "output_type": "execute_result"
    }
   ],
   "source": [
    "#ANN model biluding  model2\n",
    "model2=Sequential()\n",
    "layer1=Dense(units=100, activation='relu',input_dim=10)\n",
    "layer2=Dense(units=10, activation='relu')\n",
    "layer3=Dense(units=1, activation='linear')\n",
    "\n",
    "\n",
    "model2.add(layer1)\n",
    "model2.add(layer2)\n",
    "model2.add(layer3)\n",
    "\n",
    "model2.summary()\n",
    "\n",
    "model2.layers[0].get_weights()\n"
   ]
  },
  {
   "cell_type": "code",
   "execution_count": 20,
   "id": "35f26456",
   "metadata": {},
   "outputs": [
    {
     "name": "stdout",
     "output_type": "stream",
     "text": [
      "Epoch 1/10\n"
     ]
    },
    {
     "ename": "ValueError",
     "evalue": "in user code:\n\n    File \"C:\\Users\\nilay\\anaconda3\\lib\\site-packages\\keras\\engine\\training.py\", line 1021, in train_function  *\n        return step_function(self, iterator)\n    File \"C:\\Users\\nilay\\anaconda3\\lib\\site-packages\\keras\\engine\\training.py\", line 1010, in step_function  **\n        outputs = model.distribute_strategy.run(run_step, args=(data,))\n    File \"C:\\Users\\nilay\\anaconda3\\lib\\site-packages\\keras\\engine\\training.py\", line 1000, in run_step  **\n        outputs = model.train_step(data)\n    File \"C:\\Users\\nilay\\anaconda3\\lib\\site-packages\\keras\\engine\\training.py\", line 859, in train_step\n        y_pred = self(x, training=True)\n    File \"C:\\Users\\nilay\\anaconda3\\lib\\site-packages\\keras\\utils\\traceback_utils.py\", line 67, in error_handler\n        raise e.with_traceback(filtered_tb) from None\n    File \"C:\\Users\\nilay\\anaconda3\\lib\\site-packages\\keras\\engine\\input_spec.py\", line 264, in assert_input_compatibility\n        raise ValueError(f'Input {input_index} of layer \"{layer_name}\" is '\n\n    ValueError: Input 0 of layer \"sequential_1\" is incompatible with the layer: expected shape=(None, 10), found shape=(None, 7)\n",
     "output_type": "error",
     "traceback": [
      "\u001b[1;31m---------------------------------------------------------------------------\u001b[0m",
      "\u001b[1;31mValueError\u001b[0m                                Traceback (most recent call last)",
      "\u001b[1;32m~\\AppData\\Local\\Temp/ipykernel_13680/901281281.py\u001b[0m in \u001b[0;36m<module>\u001b[1;34m\u001b[0m\n\u001b[0;32m      1\u001b[0m \u001b[0mmodel2\u001b[0m\u001b[1;33m.\u001b[0m\u001b[0mcompile\u001b[0m\u001b[1;33m(\u001b[0m\u001b[0mloss\u001b[0m\u001b[1;33m=\u001b[0m\u001b[1;34m'mean_absolute_error'\u001b[0m\u001b[1;33m,\u001b[0m\u001b[0moptimizer\u001b[0m\u001b[1;33m=\u001b[0m\u001b[1;34m\"SGD\"\u001b[0m\u001b[1;33m)\u001b[0m\u001b[1;33m\u001b[0m\u001b[1;33m\u001b[0m\u001b[0m\n\u001b[0;32m      2\u001b[0m \u001b[1;33m\u001b[0m\u001b[0m\n\u001b[1;32m----> 3\u001b[1;33m \u001b[0mmodel2\u001b[0m\u001b[1;33m.\u001b[0m\u001b[0mfit\u001b[0m\u001b[1;33m(\u001b[0m\u001b[0mX_train\u001b[0m\u001b[1;33m,\u001b[0m\u001b[0my_train\u001b[0m\u001b[1;33m,\u001b[0m\u001b[0mverbose\u001b[0m\u001b[1;33m=\u001b[0m\u001b[1;36m1\u001b[0m\u001b[1;33m,\u001b[0m\u001b[0mepochs\u001b[0m\u001b[1;33m=\u001b[0m\u001b[1;36m10\u001b[0m\u001b[1;33m)\u001b[0m\u001b[1;33m\u001b[0m\u001b[1;33m\u001b[0m\u001b[0m\n\u001b[0m",
      "\u001b[1;32m~\\anaconda3\\lib\\site-packages\\keras\\utils\\traceback_utils.py\u001b[0m in \u001b[0;36merror_handler\u001b[1;34m(*args, **kwargs)\u001b[0m\n\u001b[0;32m     65\u001b[0m     \u001b[1;32mexcept\u001b[0m \u001b[0mException\u001b[0m \u001b[1;32mas\u001b[0m \u001b[0me\u001b[0m\u001b[1;33m:\u001b[0m  \u001b[1;31m# pylint: disable=broad-except\u001b[0m\u001b[1;33m\u001b[0m\u001b[1;33m\u001b[0m\u001b[0m\n\u001b[0;32m     66\u001b[0m       \u001b[0mfiltered_tb\u001b[0m \u001b[1;33m=\u001b[0m \u001b[0m_process_traceback_frames\u001b[0m\u001b[1;33m(\u001b[0m\u001b[0me\u001b[0m\u001b[1;33m.\u001b[0m\u001b[0m__traceback__\u001b[0m\u001b[1;33m)\u001b[0m\u001b[1;33m\u001b[0m\u001b[1;33m\u001b[0m\u001b[0m\n\u001b[1;32m---> 67\u001b[1;33m       \u001b[1;32mraise\u001b[0m \u001b[0me\u001b[0m\u001b[1;33m.\u001b[0m\u001b[0mwith_traceback\u001b[0m\u001b[1;33m(\u001b[0m\u001b[0mfiltered_tb\u001b[0m\u001b[1;33m)\u001b[0m \u001b[1;32mfrom\u001b[0m \u001b[1;32mNone\u001b[0m\u001b[1;33m\u001b[0m\u001b[1;33m\u001b[0m\u001b[0m\n\u001b[0m\u001b[0;32m     68\u001b[0m     \u001b[1;32mfinally\u001b[0m\u001b[1;33m:\u001b[0m\u001b[1;33m\u001b[0m\u001b[1;33m\u001b[0m\u001b[0m\n\u001b[0;32m     69\u001b[0m       \u001b[1;32mdel\u001b[0m \u001b[0mfiltered_tb\u001b[0m\u001b[1;33m\u001b[0m\u001b[1;33m\u001b[0m\u001b[0m\n",
      "\u001b[1;32m~\\anaconda3\\lib\\site-packages\\tensorflow\\python\\framework\\func_graph.py\u001b[0m in \u001b[0;36mautograph_handler\u001b[1;34m(*args, **kwargs)\u001b[0m\n\u001b[0;32m   1145\u001b[0m           \u001b[1;32mexcept\u001b[0m \u001b[0mException\u001b[0m \u001b[1;32mas\u001b[0m \u001b[0me\u001b[0m\u001b[1;33m:\u001b[0m  \u001b[1;31m# pylint:disable=broad-except\u001b[0m\u001b[1;33m\u001b[0m\u001b[1;33m\u001b[0m\u001b[0m\n\u001b[0;32m   1146\u001b[0m             \u001b[1;32mif\u001b[0m \u001b[0mhasattr\u001b[0m\u001b[1;33m(\u001b[0m\u001b[0me\u001b[0m\u001b[1;33m,\u001b[0m \u001b[1;34m\"ag_error_metadata\"\u001b[0m\u001b[1;33m)\u001b[0m\u001b[1;33m:\u001b[0m\u001b[1;33m\u001b[0m\u001b[1;33m\u001b[0m\u001b[0m\n\u001b[1;32m-> 1147\u001b[1;33m               \u001b[1;32mraise\u001b[0m \u001b[0me\u001b[0m\u001b[1;33m.\u001b[0m\u001b[0mag_error_metadata\u001b[0m\u001b[1;33m.\u001b[0m\u001b[0mto_exception\u001b[0m\u001b[1;33m(\u001b[0m\u001b[0me\u001b[0m\u001b[1;33m)\u001b[0m\u001b[1;33m\u001b[0m\u001b[1;33m\u001b[0m\u001b[0m\n\u001b[0m\u001b[0;32m   1148\u001b[0m             \u001b[1;32melse\u001b[0m\u001b[1;33m:\u001b[0m\u001b[1;33m\u001b[0m\u001b[1;33m\u001b[0m\u001b[0m\n\u001b[0;32m   1149\u001b[0m               \u001b[1;32mraise\u001b[0m\u001b[1;33m\u001b[0m\u001b[1;33m\u001b[0m\u001b[0m\n",
      "\u001b[1;31mValueError\u001b[0m: in user code:\n\n    File \"C:\\Users\\nilay\\anaconda3\\lib\\site-packages\\keras\\engine\\training.py\", line 1021, in train_function  *\n        return step_function(self, iterator)\n    File \"C:\\Users\\nilay\\anaconda3\\lib\\site-packages\\keras\\engine\\training.py\", line 1010, in step_function  **\n        outputs = model.distribute_strategy.run(run_step, args=(data,))\n    File \"C:\\Users\\nilay\\anaconda3\\lib\\site-packages\\keras\\engine\\training.py\", line 1000, in run_step  **\n        outputs = model.train_step(data)\n    File \"C:\\Users\\nilay\\anaconda3\\lib\\site-packages\\keras\\engine\\training.py\", line 859, in train_step\n        y_pred = self(x, training=True)\n    File \"C:\\Users\\nilay\\anaconda3\\lib\\site-packages\\keras\\utils\\traceback_utils.py\", line 67, in error_handler\n        raise e.with_traceback(filtered_tb) from None\n    File \"C:\\Users\\nilay\\anaconda3\\lib\\site-packages\\keras\\engine\\input_spec.py\", line 264, in assert_input_compatibility\n        raise ValueError(f'Input {input_index} of layer \"{layer_name}\" is '\n\n    ValueError: Input 0 of layer \"sequential_1\" is incompatible with the layer: expected shape=(None, 10), found shape=(None, 7)\n"
     ]
    }
   ],
   "source": [
    "model2.compile(loss='mae',optimizer=\"SGD\")\n",
    "\n",
    "model2.fit(X_train,y_train,verbose=1,epochs=10)"
   ]
  },
  {
   "cell_type": "code",
   "execution_count": null,
   "id": "9cbef148",
   "metadata": {},
   "outputs": [],
   "source": [
    "\n",
    "\n",
    "model2.layers[0].get_weights()"
   ]
  },
  {
   "cell_type": "code",
   "execution_count": null,
   "id": "d089cb7c",
   "metadata": {},
   "outputs": [],
   "source": []
  }
 ],
 "metadata": {
  "kernelspec": {
   "display_name": "Python 3 (ipykernel)",
   "language": "python",
   "name": "python3"
  },
  "language_info": {
   "codemirror_mode": {
    "name": "ipython",
    "version": 3
   },
   "file_extension": ".py",
   "mimetype": "text/x-python",
   "name": "python",
   "nbconvert_exporter": "python",
   "pygments_lexer": "ipython3",
   "version": "3.9.13"
  }
 },
 "nbformat": 4,
 "nbformat_minor": 5
}
